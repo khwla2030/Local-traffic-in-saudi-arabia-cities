{
 "cells": [
  {
   "cell_type": "markdown",
   "metadata": {},
   "source": [
    "# Project 1: Driving Licenses, Traffic Accidents and Casualties Analysis"
   ]
  },
  {
   "cell_type": "markdown",
   "metadata": {},
   "source": [
    "# Introduction "
   ]
  },
  {
   "cell_type": "markdown",
   "metadata": {},
   "source": [
    "The most common causes of death and injury in Saudi Arabia is by Traffic accidents.\n",
    "Traffic accidents are significant reasons for sickness and passing . These mishaps are an intense general medical issue that requires concerted efforts for effective and sustainable prevention."
   ]
  },
  {
   "cell_type": "markdown",
   "metadata": {},
   "source": [
    "## Problem"
   ]
  },
  {
   "cell_type": "markdown",
   "metadata": {},
   "source": [
    "Traffic accidents are Increasing in many  region saudi arabia"
   ]
  },
  {
   "cell_type": "markdown",
   "metadata": {},
   "source": [
    "### Dataset Description "
   ]
  },
  {
   "cell_type": "markdown",
   "metadata": {},
   "source": [
    "\n",
    "\n",
    " Two dataset are given :\n",
    "\n",
    "Driving Licenses This dataset contains Saudi Arabia Driving Licenses Issued By Administrative Area for 1993 - 2016. \n",
    "\n",
    "Traffic Accidents and Casualties This dataset contains Saudi Arabia Traffic Accidents and Casualties by Region for 2016 and 2017.\n"
   ]
  },
  {
   "cell_type": "markdown",
   "metadata": {},
   "source": [
    "## Data dictionary \n"
   ]
  },
  {
   "cell_type": "markdown",
   "metadata": {},
   "source": [
    "|Feature|Type|Dataset|Description|\n",
    "|---|---|---|---|\n",
    "|year|integr|Driving_Licenses/Traffic_Accidents|the year is describe the driver's license was issued and accidents happen|\n",
    "|region|object|Driving_Licenses/Traffic_Accidents|the region describe the area that driving license was issued and accidents happen|\n",
    "|driving_Licenses|intger|Driving_Licenses|describe the number of driving licenses issued |\n",
    "|indicator|object|Traffic_Accidents|the number of indicator describe.|\n",
    "|geo_point_2d|object|Traffic_Accidents|Region location coordinator|\n",
    "|x|float|Driving_Licenses|x coordinator for region|\n",
    "|y|float|Driving_Licenses|y coordinator for region|"
   ]
  },
  {
   "cell_type": "markdown",
   "metadata": {},
   "source": [
    "## Executive summary \n"
   ]
  },
  {
   "cell_type": "markdown",
   "metadata": {},
   "source": [
    "In the first place I consider that the driving licenses has the influenced to the Traffic Accidents that causes the harms and dead and Through examination the information I discovered in 2016-2017 the most noteworthy car crash was in Makkah area and the most elevated driving licenses was in Riyadh district . From this we can't state that the driving licenses could influence to the Traffic Accidents."
   ]
  },
  {
   "cell_type": "markdown",
   "metadata": {},
   "source": [
    "## Conclusions and recommendation "
   ]
  },
  {
   "cell_type": "markdown",
   "metadata": {},
   "source": [
    "I prescribed to give a Severe law authorization of petty criminal offenses so it can exceptionally influence the complete number of accident and henceforth decline the quantities of  injured and dead\n",
    " Additionally awareness social campaigns that showcase  that injuries and deaths caused by by criminal traffic.It is necessary to remind individuals that they should comply with the guidelines and  respect the road and the other drives to avoid any lossoffense\n"
   ]
  },
  {
   "cell_type": "markdown",
   "metadata": {},
   "source": [
    "https://medium.com/@khowla739/traffic-accident-analysis-and-driving-licenses-in-saudi-arabia-36dd2a0f39d5"
   ]
  },
  {
   "cell_type": "code",
   "execution_count": null,
   "metadata": {},
   "outputs": [],
   "source": []
  }
 ],
 "metadata": {
  "kernelspec": {
   "display_name": "Python 3",
   "language": "python",
   "name": "python3"
  },
  "language_info": {
   "codemirror_mode": {
    "name": "ipython",
    "version": 3
   },
   "file_extension": ".py",
   "mimetype": "text/x-python",
   "name": "python",
   "nbconvert_exporter": "python",
   "pygments_lexer": "ipython3",
   "version": "3.7.4"
  }
 },
 "nbformat": 4,
 "nbformat_minor": 2
}
